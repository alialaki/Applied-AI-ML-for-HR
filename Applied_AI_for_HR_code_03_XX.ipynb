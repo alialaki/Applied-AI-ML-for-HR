{
  "nbformat": 4,
  "nbformat_minor": 0,
  "metadata": {
    "colab": {
      "provenance": [],
      "authorship_tag": "ABX9TyNbCjEiIAjXsXiu0B2jFIEY",
      "include_colab_link": true
    },
    "kernelspec": {
      "name": "python3",
      "display_name": "Python 3"
    },
    "language_info": {
      "name": "python"
    }
  },
  "cells": [
    {
      "cell_type": "markdown",
      "metadata": {
        "id": "view-in-github",
        "colab_type": "text"
      },
      "source": [
        "<a href=\"https://colab.research.google.com/github/alialaki/Applied-AI-ML-for-HR/blob/main/Applied_AI_for_HR_code_03_XX.ipynb\" target=\"_parent\"><img src=\"https://colab.research.google.com/assets/colab-badge.svg\" alt=\"Open In Colab\"/></a>"
      ]
    },
    {
      "cell_type": "markdown",
      "source": [
        "#**DISCOVERING Collaboration Between Teams and People**\n",
        "\n",
        "#Summary of Number of nodes is connected with\n",
        "\n",
        "*   Clustering Co-efficient\n",
        "*   Centrality\n",
        "\n",
        "\n",
        "*   Betweenness\n",
        "\n",
        "\n"
      ],
      "metadata": {
        "id": "EyB_1D7d9nkt"
      }
    },
    {
      "cell_type": "code",
      "source": [
        "from google.colab import drive\n",
        "drive.mount('/content/drive')\n",
        "import sys\n",
        "import networkx as nx\n",
        "import pandas as pd\n",
        "import matplotlib.pyplot as plt\n",
        "\n",
        "from csv import reader"
      ],
      "metadata": {
        "id": "PmbH-HRjtB0G",
        "colab": {
          "base_uri": "https://localhost:8080/"
        },
        "outputId": "4e7b96b4-9bc9-4bf3-aa12-b530f3933841"
      },
      "execution_count": null,
      "outputs": [
        {
          "output_type": "stream",
          "name": "stdout",
          "text": [
            "Mounted at /content/drive\n"
          ]
        }
      ]
    },
    {
      "cell_type": "markdown",
      "source": [
        "#**03.04. Preparing Network Data**"
      ],
      "metadata": {
        "id": "5XpuNA8U5gWr"
      }
    },
    {
      "cell_type": "code",
      "source": [
        "#Loading the data\n",
        "#chat_csv = pd.read_csv('/content/drive/MyDrive/Applied AI for Human Resources-LinkedinLearning/chat_groups.csv')\n",
        "#Data frame to store employee pairs.\n",
        "employee_pairs = pd.DataFrame(columns=['First', 'Second', 'Count'])\n",
        "\n",
        "#Read file and extract pairs and weight\n",
        "with open('/content/drive/MyDrive/Applied AI for Human Resources-LinkedinLearning/chat_groups.csv', 'r', encoding=\"utf-8-sig\") as read_obj:\n",
        "    #Pass the file object to reader() to get the reader object\n",
        "    csv_reader = reader(read_obj)\n",
        "    #Iterate over each row in the csv using reader object\n",
        "    for row in csv_reader:\n",
        "      #Sort by employee name\n",
        "      row.sort()\n",
        "      #sort and filter for only valid names\n",
        "      filtered_row = [emp for emp in row if emp != '']\n",
        "\n",
        "      #Generate employee pairs\n",
        "\n",
        "      #Iterate for the first employee\n",
        "      for i in range(0, len(filtered_row)-1):\n",
        "        #Iterate for the second\n",
        "        for j in range(i+1, len(filtered_row)):\n",
        "          first=filtered_row[i]\n",
        "          second=filtered_row[j]\n",
        "\n",
        "          #Create the pair record. If Dataframe record already exists\n",
        "          #Update the count. If not, create it\n",
        "          curr_rec = employee_pairs[\n",
        "                              (employee_pairs['First'] == first)\n",
        "                              & (employee_pairs['Second'] == second)]\n",
        "          if ( curr_rec.empty ):\n",
        "            new_def= pd.DataFrame([{\n",
        "                'First': first,\n",
        "                'Second': second,\n",
        "                'Count': 1\n",
        "            }])\n",
        "\n",
        "            employee_pairs = pd.concat([employee_pairs, new_def], ignore_index=True)\n",
        "\n",
        "          else:\n",
        "            curr_rec.at[curr_rec.index[0], 'Count'] = curr_rec.at[curr_rec.index[0], 'Count'] + 1\n",
        "            employee_pairs.update(curr_rec)\n",
        "\n",
        "print(employee_pairs)"
      ],
      "metadata": {
        "colab": {
          "base_uri": "https://localhost:8080/"
        },
        "id": "M8f5bp_mtwUH",
        "outputId": "d46d50ba-0119-47e4-d03c-fcb79ec18979"
      },
      "execution_count": null,
      "outputs": [
        {
          "output_type": "stream",
          "name": "stdout",
          "text": [
            "    First Second Count\n",
            "0    Jeff  Stacy     7\n",
            "1    Jeff    Rob     4\n",
            "2    Emma   Jeff     6\n",
            "3    Emma    Rob     3\n",
            "4    Emma  Stacy     4\n",
            "5     Rob  Stacy     4\n",
            "6    Emma   Mike     3\n",
            "7    Jeff   Mike     5\n",
            "8    Mike    Rob     3\n",
            "9    Mike  Stacy     5\n",
            "10   Jeff   Lisa     5\n",
            "11   Emma   Lisa     2\n",
            "12   Emma  Mason     1\n",
            "13   Jeff  Mason     2\n",
            "14   Lisa  Mason     6\n",
            "15   Lisa   Mike     2\n",
            "16  Mason   Mike     2\n",
            "17   Lisa  Stacy     2\n",
            "18  David   Jeff     1\n",
            "19  David   Lisa     6\n",
            "20  David  Stacy     1\n",
            "21  David  Mason     4\n",
            "22  David  Sofia     3\n",
            "23   Lisa  Sofia     4\n",
            "24  Mason  Sofia     3\n"
          ]
        }
      ]
    },
    {
      "cell_type": "markdown",
      "source": [
        "#**03.05. create and visualize the network**"
      ],
      "metadata": {
        "id": "EeggebeDKdxQ"
      }
    },
    {
      "cell_type": "code",
      "source": [
        "#Create a networkX graph\n",
        "graph_emps= nx.Graph()\n",
        "\n",
        "#Add Edges based on the Dataframe (nodes gets added automatically)\n",
        "for i,row in employee_pairs.iterrows():\n",
        "  graph_emps.add_edge(row['First'], row['Second'], weight=row['Count'])\n",
        "\n",
        "#Print network summmary\n",
        "print(f\"Network Summary:\")\n",
        "print(f\"Number of nodes: {graph_emps.number_of_nodes()}\")\n",
        "print(f\"Number of edges: {graph_emps.number_of_edges()}\")\n",
        "list(nx.connected_components(graph_emps))\n"
      ],
      "metadata": {
        "colab": {
          "base_uri": "https://localhost:8080/"
        },
        "id": "3-pDXb_LG0wk",
        "outputId": "0bd5cd35-d856-4053-cc78-ee53bf98ea97"
      },
      "execution_count": null,
      "outputs": [
        {
          "output_type": "stream",
          "name": "stdout",
          "text": [
            "Network Summary:\n",
            "Number of nodes: 9\n",
            "Number of edges: 25\n"
          ]
        },
        {
          "output_type": "execute_result",
          "data": {
            "text/plain": [
              "[{'David', 'Emma', 'Jeff', 'Lisa', 'Mason', 'Mike', 'Rob', 'Sofia', 'Stacy'}]"
            ]
          },
          "metadata": {},
          "execution_count": 3
        }
      ]
    },
    {
      "cell_type": "code",
      "source": [
        "#Create different types of edges based on their cohesion\n",
        "\n",
        "#We want to differentiate the edges based on the count of times the pair of employees\n",
        "\n",
        "#Pairs with Count > 5 for high cohesion\n",
        "elarge = [(x1, x2) for (x1, x2, data) in graph_emps.edges(data=True) if data['weight'] > 5]\n",
        "\n",
        "#Pairs with Count between 4 and 5 for meium cohesion\n",
        "emedium = [(x1, x2) for (x1, x2, data) in graph_emps.edges(data=True) if 4 < data['weight'] <= 5]\n",
        "\n",
        "#Pairs with Count less than 4 for low cohesion\n",
        "esmall = [(x1, x2) for (x1, x2, data) in graph_emps.edges(data=True) if data['weight'] <= 3]\n",
        "\n",
        "#Position for all nodes\n",
        "pos = nx.spring_layout(graph_emps)\n",
        "\n",
        "## Setup the graph\n",
        "# nodes\n",
        "nx.draw_networkx_nodes(graph_emps, pos,\n",
        "                       node_size=700,\n",
        "                       node_color='orange')\n",
        "\n",
        "# edges\n",
        "nx.draw_networkx_edges(graph_emps, pos,\n",
        "                       edgelist=elarge,\n",
        "                       width=6,\n",
        "                       edge_color='blue')\n",
        "\n",
        "nx.draw_networkx_edges(graph_emps, pos,\n",
        "                       edgelist=emedium,\n",
        "                       width=4,\n",
        "                       edge_color='green')\n",
        "\n",
        "nx.draw_networkx_edges(graph_emps, pos,\n",
        "                       edgelist=esmall,\n",
        "                       width=2,\n",
        "                       edge_color='gray')\n",
        "\n",
        "# labels\n",
        "nx.draw_networkx_labels(graph_emps,\n",
        "                        pos,\n",
        "                        font_size=16,\n",
        "                        font_family='sans-serif')\n",
        "\n",
        "# show graph\n",
        "plt.axis('off')\n",
        "plt.show()\n"
      ],
      "metadata": {
        "id": "47p4STjYLlQo",
        "colab": {
          "base_uri": "https://localhost:8080/",
          "height": 406
        },
        "outputId": "8540a955-d57a-4cf0-ee03-11fed7dcb464"
      },
      "execution_count": null,
      "outputs": [
        {
          "output_type": "display_data",
          "data": {
            "text/plain": [
              "<Figure size 640x480 with 1 Axes>"
            ],
            "image/png": "[encoded data removed]"
          },
          "metadata": {}
        }
      ]
    },
    {
      "cell_type": "markdown",
      "source": [
        "##**03.06. Analyzing the network**"
      ],
      "metadata": {
        "id": "yet5C_Bb5Poi"
      }
    },
    {
      "cell_type": "code",
      "source": [
        "#Function to sort a dictionary by blue\n",
        "def sorted_dict(dict):\n",
        "  sorted_dict = sorted(dict.items(), key=lambda x: x[1], reverse=True)\n",
        "\n",
        "  for key, value in sorted_dict:\n",
        "    print(f\"{key}: {value}\")\n",
        "\n",
        "#Find number of nodes they are connected with\n",
        "print(\"\\nNodes Mason is connected with : \\n------------------------\")\n",
        "print(nx.degree(graph_emps, 'Mason'))\n",
        "\n",
        "#Clustering -how close a team they form\n",
        "print(\"\\nClustering Co-efficient : \\n------------------------\")\n",
        "sorted_dict(nx.clustering(graph_emps, weight='weight' ))\n",
        "\n",
        "#Find centrality of nodes\n",
        "print(\"\\nCentrality : \\n------------------------\")\n",
        "sorted_dict(nx.degree_centrality(graph_emps))\n",
        "\n",
        "#Find betweenness of nodes\n",
        "print(\"\\nBetweenness : \\n------------------------\")\n",
        "sorted_dict(nx.betweenness_centrality(graph_emps, weight='weight'))\n"
      ],
      "metadata": {
        "id": "javaR-wZ-e1Z",
        "colab": {
          "base_uri": "https://localhost:8080/"
        },
        "outputId": "1e80f044-a1c6-4ee9-d80a-131026b9418b"
      },
      "execution_count": null,
      "outputs": [
        {
          "output_type": "stream",
          "name": "stdout",
          "text": [
            "\n",
            "Nodes Mason is connected with : \n",
            "------------------------\n",
            "6\n",
            "\n",
            "Clustering Co-efficient : \n",
            "------------------------\n",
            "Rob: 0.5582006819632445\n",
            "Sofia: 0.5534410733858209\n",
            "Stacy: 0.3900329404151805\n",
            "Mike: 0.38974635553194814\n",
            "Jeff: 0.38195292174533335\n",
            "Emma: 0.3793204320130199\n",
            "Lisa: 0.32170848285500264\n",
            "David: 0.3144738551035591\n",
            "Mason: 0.2915556156651455\n",
            "\n",
            "Centrality : \n",
            "------------------------\n",
            "Jeff: 0.875\n",
            "Lisa: 0.875\n",
            "Stacy: 0.75\n",
            "Emma: 0.75\n",
            "Mike: 0.75\n",
            "Mason: 0.75\n",
            "David: 0.625\n",
            "Rob: 0.5\n",
            "Sofia: 0.375\n",
            "\n",
            "Betweenness : \n",
            "------------------------\n",
            "Mason: 0.25\n",
            "David: 0.17857142857142855\n",
            "Jeff: 0.14285714285714285\n",
            "Emma: 0.125\n",
            "Stacy: 0.10714285714285714\n",
            "Lisa: 0.07142857142857142\n",
            "Mike: 0.017857142857142856\n",
            "Rob: 0.0\n",
            "Sofia: 0.0\n"
          ]
        }
      ]
    },
    {
      "cell_type": "code",
      "source": [],
      "metadata": {
        "id": "LyeuJidH8G3v"
      },
      "execution_count": null,
      "outputs": []
    }
  ]
}